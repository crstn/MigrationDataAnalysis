{
 "cells": [
  {
   "cell_type": "markdown",
   "metadata": {},
   "source": [
    "We'll use these modules to download and unzip the files:"
   ]
  },
  {
   "cell_type": "code",
   "execution_count": 8,
   "metadata": {},
   "outputs": [],
   "source": [
    "import urllib.request\n",
    "import zipfile\n",
    "import os"
   ]
  },
  {
   "cell_type": "markdown",
   "metadata": {},
   "source": [
    "We'll download and unzip multiple datasets, so let's define a function for that:"
   ]
  },
  {
   "cell_type": "code",
   "execution_count": 12,
   "metadata": {},
   "outputs": [],
   "source": [
    "def dlAndUnzip(url, name):\n",
    "    path = \"data\"+\"/\"+name\n",
    "    file = name+\".zip\"\n",
    "    # download the file\n",
    "    urllib.request.urlretrieve(url, file)\n",
    "\n",
    "    # create the folder for unzipping if it's not there yet:\n",
    "    if not os.path.isdir(path):\n",
    "        os.mkdir(path)\n",
    "\n",
    "    # unzip\n",
    "    zip = zipfile.ZipFile(file)\n",
    "    zip.extractall(path=path)\n",
    "\n",
    "    # delete the zip file\n",
    "    os.remove(file)\n",
    "    \n",
    "    print(\"Done. Download to \" + path + \" complete. 🏁\")\n"
   ]
  },
  {
   "cell_type": "markdown",
   "metadata": {},
   "source": [
    "Download and unzip GDP PPP data from http://databank.worldbank.org/data/reports.aspx?source=2&series=NY.GDP.PCAP.PP.CD#"
   ]
  },
  {
   "cell_type": "code",
   "execution_count": 13,
   "metadata": {},
   "outputs": [
    {
     "name": "stdout",
     "output_type": "stream",
     "text": [
      "Done. Download to data/GDP_PPP complete. 🏁\n"
     ]
    }
   ],
   "source": [
    "url = \"http://databank.worldbank.org/data/AjaxDownload/FileDownloadHandler.ashx?filename=8a16b699-e7e6-4796-8701-898be7c0fb87.zip&filetype=CSV&language=en&displayfile=Data_Extract_From_World_Development_Indicators.zip\"\n",
    "name = \"GDP_PPP\"\n",
    "\n",
    "dlAndUnzip(url, name)"
   ]
  },
  {
   "cell_type": "markdown",
   "metadata": {},
   "source": [
    "Next up, GDP per capita in current US$ from http://databank.worldbank.org/data/reports.aspx?source=2&series=NY.GDP.PCAP.CD"
   ]
  },
  {
   "cell_type": "code",
   "execution_count": 15,
   "metadata": {},
   "outputs": [
    {
     "name": "stdout",
     "output_type": "stream",
     "text": [
      "Done. Download to data/GDP complete. 🏁\n"
     ]
    }
   ],
   "source": [
    "url = \"http://databank.worldbank.org/data/AjaxDownload/FileDownloadHandler.ashx?filename=1eaed4f3-f10a-49a9-9c86-4433ffe907c5.zip&filetype=CSV&language=en&displayfile=Data_Extract_From_World_Development_Indicators.zip\"\n",
    "name = \"GDP\"\n",
    "\n",
    "dlAndUnzip(url, name)"
   ]
  },
  {
   "cell_type": "code",
   "execution_count": null,
   "metadata": {},
   "outputs": [],
   "source": []
  }
 ],
 "metadata": {
  "kernelspec": {
   "display_name": "Python 3",
   "language": "python",
   "name": "python3"
  },
  "language_info": {
   "codemirror_mode": {
    "name": "ipython",
    "version": 3
   },
   "file_extension": ".py",
   "mimetype": "text/x-python",
   "name": "python",
   "nbconvert_exporter": "python",
   "pygments_lexer": "ipython3",
   "version": "3.6.5"
  }
 },
 "nbformat": 4,
 "nbformat_minor": 2
}
