{
 "cells": [
  {
   "cell_type": "markdown",
   "metadata": {},
   "source": [
    "We'll use these modules to download and unzip the files:"
   ]
  },
  {
   "cell_type": "code",
   "execution_count": 7,
   "metadata": {},
   "outputs": [],
   "source": [
    "import urllib.request\n",
    "import zipfile\n",
    "import gzip  # for .gz files from Eurostat\n",
    "import os"
   ]
  },
  {
   "cell_type": "markdown",
   "metadata": {},
   "source": [
    "We'll download and unzip multiple datasets, so let's define a function for that:"
   ]
  },
  {
   "cell_type": "code",
   "execution_count": 9,
   "metadata": {},
   "outputs": [],
   "source": [
    "def dlAndUnzip(url, name):\n",
    "    path = \"Data\"+\"/\"+name\n",
    "    file = name+\".zip\"\n",
    "    \n",
    "    # download the file\n",
    "    urllib.request.urlretrieve(url, file)\n",
    "\n",
    "    # create the folder for unzipping if it's not there yet:\n",
    "    if not os.path.isdir(path):\n",
    "        os.mkdir(path)\n",
    "\n",
    "    zip = zipfile.ZipFile(file)\n",
    "    zip.extractall(path=path)    \n",
    "\n",
    "    # delete the zip file\n",
    "    os.remove(file)\n",
    "    \n",
    "    print(\"Done. Download to \" + path + \" complete. 🏁\")\n"
   ]
  },
  {
   "cell_type": "markdown",
   "metadata": {},
   "source": [
    "Download and unzip GDP PPP data from http://databank.worldbank.org/data/reports.aspx?source=2&series=NY.GDP.PCAP.PP.CD#\n",
    "\n",
    "☝️ To get the download links for the CSV files linked below, go the page above and make sure that all years from **1998** to **2016** are selected (those are the years we have migration data from Eurostat for). Then click on ```Download > CSV```, and then copy the download URL from your browser's downloads list."
   ]
  },
  {
   "cell_type": "code",
   "execution_count": 10,
   "metadata": {},
   "outputs": [
    {
     "name": "stdout",
     "output_type": "stream",
     "text": [
      "Done. Download to Data/GDP_PPP complete. 🏁\n"
     ]
    }
   ],
   "source": [
    "url = \"http://databank.worldbank.org/data/AjaxDownload/FileDownloadHandler.ashx?filename=af001ddf-da8a-4f4a-9c88-8b802bf2681b.zip&filetype=CSV&language=en&displayfile=Data_Extract_From_World_Development_Indicators.zip\"\n",
    "name = \"GDP_PPP\"\n",
    "\n",
    "dlAndUnzip(url, name)"
   ]
  },
  {
   "cell_type": "markdown",
   "metadata": {},
   "source": [
    "Next up, GDP per capita in current US$ from http://databank.worldbank.org/data/reports.aspx?source=2&series=NY.GDP.PCAP.CD\n",
    "\n",
    "Same procedure as above to get the download URL..."
   ]
  },
  {
   "cell_type": "code",
   "execution_count": 4,
   "metadata": {},
   "outputs": [
    {
     "name": "stdout",
     "output_type": "stream",
     "text": [
      "Done. Download to Data/GDP complete. 🏁\n"
     ]
    }
   ],
   "source": [
    "url = \"http://databank.worldbank.org/data/AjaxDownload/FileDownloadHandler.ashx?filename=3229441d-0826-4d08-9611-3323fb9aa779.zip&filetype=CSV&language=en&displayfile=Data_Extract_From_World_Development_Indicators.zip\"\n",
    "name = \"GDP\"\n",
    "\n",
    "dlAndUnzip(url, name)"
   ]
  },
  {
   "cell_type": "markdown",
   "metadata": {},
   "source": [
    "Next up, annually aggregated asylum seeker data from Eurostat: http://ec.europa.eu/eurostat/web/products-datasets/-/migr_asyappctza"
   ]
  },
  {
   "cell_type": "code",
   "execution_count": 11,
   "metadata": {},
   "outputs": [
    {
     "ename": "FileNotFoundError",
     "evalue": "[Errno 2] No such file or directory: 'Asylum/asylum.tsv.gz'",
     "output_type": "error",
     "traceback": [
      "\u001b[0;31m---------------------------------------------------------------------------\u001b[0m",
      "\u001b[0;31mFileNotFoundError\u001b[0m                         Traceback (most recent call last)",
      "\u001b[0;32m<ipython-input-11-e07780be0e2c>\u001b[0m in \u001b[0;36m<module>\u001b[0;34m()\u001b[0m\n\u001b[1;32m      4\u001b[0m \u001b[0mfile\u001b[0m \u001b[0;34m=\u001b[0m \u001b[0;34m\"Asylum/asylum.tsv.gz\"\u001b[0m\u001b[0;34m\u001b[0m\u001b[0m\n\u001b[1;32m      5\u001b[0m \u001b[0;34m\u001b[0m\u001b[0m\n\u001b[0;32m----> 6\u001b[0;31m \u001b[0murllib\u001b[0m\u001b[0;34m.\u001b[0m\u001b[0mrequest\u001b[0m\u001b[0;34m.\u001b[0m\u001b[0murlretrieve\u001b[0m\u001b[0;34m(\u001b[0m\u001b[0murl\u001b[0m\u001b[0;34m,\u001b[0m \u001b[0mfile\u001b[0m\u001b[0;34m)\u001b[0m\u001b[0;34m\u001b[0m\u001b[0m\n\u001b[0m",
      "\u001b[0;32m~/miniconda3/lib/python3.6/urllib/request.py\u001b[0m in \u001b[0;36murlretrieve\u001b[0;34m(url, filename, reporthook, data)\u001b[0m\n\u001b[1;32m    256\u001b[0m         \u001b[0;31m# Handle temporary file setup.\u001b[0m\u001b[0;34m\u001b[0m\u001b[0;34m\u001b[0m\u001b[0m\n\u001b[1;32m    257\u001b[0m         \u001b[0;32mif\u001b[0m \u001b[0mfilename\u001b[0m\u001b[0;34m:\u001b[0m\u001b[0;34m\u001b[0m\u001b[0m\n\u001b[0;32m--> 258\u001b[0;31m             \u001b[0mtfp\u001b[0m \u001b[0;34m=\u001b[0m \u001b[0mopen\u001b[0m\u001b[0;34m(\u001b[0m\u001b[0mfilename\u001b[0m\u001b[0;34m,\u001b[0m \u001b[0;34m'wb'\u001b[0m\u001b[0;34m)\u001b[0m\u001b[0;34m\u001b[0m\u001b[0m\n\u001b[0m\u001b[1;32m    259\u001b[0m         \u001b[0;32melse\u001b[0m\u001b[0;34m:\u001b[0m\u001b[0;34m\u001b[0m\u001b[0m\n\u001b[1;32m    260\u001b[0m             \u001b[0mtfp\u001b[0m \u001b[0;34m=\u001b[0m \u001b[0mtempfile\u001b[0m\u001b[0;34m.\u001b[0m\u001b[0mNamedTemporaryFile\u001b[0m\u001b[0;34m(\u001b[0m\u001b[0mdelete\u001b[0m\u001b[0;34m=\u001b[0m\u001b[0;32mFalse\u001b[0m\u001b[0;34m)\u001b[0m\u001b[0;34m\u001b[0m\u001b[0m\n",
      "\u001b[0;31mFileNotFoundError\u001b[0m: [Errno 2] No such file or directory: 'Asylum/asylum.tsv.gz'"
     ]
    }
   ],
   "source": [
    "# This is a .gz file, which pandas can read directly. So we'll just download it, without unpacking\n",
    "\n",
    "# create the folder for unzipping if it's not there yet:\n",
    "path = \"Data/Asylum\"\n",
    "if not os.path.isdir(path):\n",
    "    os.mkdir(path)\n",
    "\n",
    "url = \"http://ec.europa.eu/eurostat/estat-navtree-portlet-prod/BulkDownloadListing?file=data/migr_asyappctza.tsv.gz\"\n",
    "file = \"Asylum/asylum.tsv.gz\"\n",
    "\n",
    "urllib.request.urlretrieve(url, file)"
   ]
  },
  {
   "cell_type": "code",
   "execution_count": null,
   "metadata": {},
   "outputs": [],
   "source": []
  }
 ],
 "metadata": {
  "kernelspec": {
   "display_name": "Python 3",
   "language": "python",
   "name": "python3"
  },
  "language_info": {
   "codemirror_mode": {
    "name": "ipython",
    "version": 3
   },
   "file_extension": ".py",
   "mimetype": "text/x-python",
   "name": "python",
   "nbconvert_exporter": "python",
   "pygments_lexer": "ipython3",
   "version": "3.6.5"
  }
 },
 "nbformat": 4,
 "nbformat_minor": 2
}
